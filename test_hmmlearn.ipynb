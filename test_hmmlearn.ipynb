{
 "cells": [
  {
   "cell_type": "code",
   "execution_count": 63,
   "id": "8a3445f3-c951-402b-98cb-97428648590e",
   "metadata": {},
   "outputs": [],
   "source": [
    "from hmmlearn import hmm\n",
    "import numpy as np"
   ]
  },
  {
   "cell_type": "code",
   "execution_count": 64,
   "id": "1e8c28ce-26ec-4512-9472-9a6674c4405f",
   "metadata": {},
   "outputs": [],
   "source": [
    "model = hmm.MultinomialHMM(n_components=2, init_params='')\n",
    "model.startprob_ = [.8, .2]\n",
    "model.transmat_ = [[.6, .4], [.5, .5]]\n",
    "model.emissionprob_ = [[.2, .4, .4], [.5, .4, .1]]"
   ]
  },
  {
   "cell_type": "code",
   "execution_count": 65,
   "id": "f8d07093-84d7-4b45-97e3-ea5dea9992c0",
   "metadata": {},
   "outputs": [
    {
     "name": "stdout",
     "output_type": "stream",
     "text": [
      "Likelihood:  0.028562000000000004\n",
      "Hidden state best fit:  (-4.358310108056566, array([0, 1, 0]))\n"
     ]
    }
   ],
   "source": [
    "# trước khi fit\n",
    "o = [3, 1, 3]\n",
    "o = [[i - 1] for i in o]\n",
    "print('Likelihood: ', np.exp(model.score(o)))\n",
    "print('Hidden state best fit: ', model.decode(o))"
   ]
  },
  {
   "cell_type": "markdown",
   "id": "e6fc40ed-d60c-4090-9fc0-32fb7b00db12",
   "metadata": {},
   "source": [
    "[0, 1, 0] -> [hot, cold, hot]"
   ]
  },
  {
   "cell_type": "code",
   "execution_count": 66,
   "id": "7c75dcd6-492e-4fba-8753-037db4c7f51a",
   "metadata": {},
   "outputs": [
    {
     "data": {
      "text/plain": [
       "array([[0, 0, 0],\n",
       "       [0, 0, 1],\n",
       "       [1, 1, 2],\n",
       "       ...,\n",
       "       [1, 1, 1],\n",
       "       [1, 0, 0],\n",
       "       [2, 0, 0]])"
      ]
     },
     "execution_count": 66,
     "metadata": {},
     "output_type": "execute_result"
    }
   ],
   "source": [
    "O = np.random.binomial(2, 1/3, size=(1000, 3))\n",
    "model.fit(O)\n",
    "O"
   ]
  },
  {
   "cell_type": "markdown",
   "id": "775afc01-f358-480b-9118-7198b475b555",
   "metadata": {},
   "source": [
    "[1, 1, 0] -> [cold, cold, hot]"
   ]
  },
  {
   "cell_type": "code",
   "execution_count": 67,
   "id": "6343b28b-4a6e-4ee0-bf01-a26bf33b71df",
   "metadata": {},
   "outputs": [
    {
     "name": "stdout",
     "output_type": "stream",
     "text": [
      "Likelihood:  0.00189545616180856\n",
      "Hidden state best fit:  (-6.879853105959844, array([1, 1, 0]))\n"
     ]
    }
   ],
   "source": [
    "# sau khi fit\n",
    "o = [3, 1, 3]\n",
    "o = [[i - 1] for i in o]\n",
    "print('Likelihood: ', np.exp(model.score(o)))\n",
    "print('Hidden state best fit: ', model.decode(o))"
   ]
  },
  {
   "cell_type": "code",
   "execution_count": null,
   "id": "55f30db2-e989-43b7-98ef-502e07883cc2",
   "metadata": {},
   "outputs": [],
   "source": [
    "[cold, cold, hot]"
   ]
  },
  {
   "cell_type": "code",
   "execution_count": 49,
   "id": "0913586b-94bf-453f-8f96-ca699562b188",
   "metadata": {},
   "outputs": [
    {
     "data": {
      "text/plain": [
       "array([2.81650461e-13, 1.00000000e+00])"
      ]
     },
     "execution_count": 49,
     "metadata": {},
     "output_type": "execute_result"
    }
   ],
   "source": [
    "model.startprob_"
   ]
  },
  {
   "cell_type": "code",
   "execution_count": 50,
   "id": "b8ec1abe-44e7-44c1-b22e-d609fd189335",
   "metadata": {},
   "outputs": [
    {
     "data": {
      "text/plain": [
       "array([[0.56071341, 0.43928659],\n",
       "       [0.8672801 , 0.1327199 ]])"
      ]
     },
     "execution_count": 50,
     "metadata": {},
     "output_type": "execute_result"
    }
   ],
   "source": [
    "model.transmat_"
   ]
  },
  {
   "cell_type": "code",
   "execution_count": 51,
   "id": "811a038c-db5b-444e-98e6-d178d442bac9",
   "metadata": {},
   "outputs": [
    {
     "data": {
      "text/plain": [
       "array([[2.30436282e-01, 6.67192654e-01, 1.02371064e-01],\n",
       "       [9.99476845e-01, 1.34615918e-05, 5.09693907e-04]])"
      ]
     },
     "execution_count": 51,
     "metadata": {},
     "output_type": "execute_result"
    }
   ],
   "source": [
    "model.emissionprob_"
   ]
  },
  {
   "cell_type": "code",
   "execution_count": null,
   "id": "e22eb66c-7c05-4e89-b683-ab68b9d57874",
   "metadata": {},
   "outputs": [],
   "source": []
  },
  {
   "cell_type": "code",
   "execution_count": 12,
   "id": "fabdb470-4fce-423a-9444-46631d3c404c",
   "metadata": {},
   "outputs": [
    {
     "name": "stdout",
     "output_type": "stream",
     "text": [
      "Help on method score in module hmmlearn.base:\n",
      "\n",
      "score(X, lengths=None) method of hmmlearn.hmm.MultinomialHMM instance\n",
      "    Compute the log probability under the model.\n",
      "    \n",
      "    Parameters\n",
      "    ----------\n",
      "    X : array-like, shape (n_samples, 1)\n",
      "        Feature matrix of individual samples.\n",
      "    lengths : array-like of integers, shape (n_sequences, ), optional\n",
      "        Lengths of the individual sequences in ``X``. The sum of\n",
      "        these should be ``n_samples``.\n",
      "    \n",
      "    Returns\n",
      "    -------\n",
      "    logprob : float\n",
      "        Log likelihood of ``X``.\n",
      "    \n",
      "    See Also\n",
      "    --------\n",
      "    score_samples : Compute the log probability under the model and\n",
      "        posteriors.\n",
      "    decode : Find most likely state sequence corresponding to ``X``.\n",
      "    \n",
      "    Notes\n",
      "    -----\n",
      "    Unlike other HMM classes, `MultinomialHMM` ``X`` arrays have shape\n",
      "    ``(n_samples, 1)`` (instead of ``(n_samples, n_features)``).  Consider using\n",
      "    `sklearn.preprocessing.LabelEncoder` to transform your input to the right\n",
      "    format.\n",
      "\n"
     ]
    }
   ],
   "source": [
    "help(model.score)"
   ]
  }
 ],
 "metadata": {
  "kernelspec": {
   "display_name": "Python 3",
   "language": "python",
   "name": "python3"
  },
  "language_info": {
   "codemirror_mode": {
    "name": "ipython",
    "version": 3
   },
   "file_extension": ".py",
   "mimetype": "text/x-python",
   "name": "python",
   "nbconvert_exporter": "python",
   "pygments_lexer": "ipython3",
   "version": "3.8.8"
  }
 },
 "nbformat": 4,
 "nbformat_minor": 5
}
